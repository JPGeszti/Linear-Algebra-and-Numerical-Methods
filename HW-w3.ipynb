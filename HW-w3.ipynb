{
 "cells": [
  {
   "cell_type": "code",
   "execution_count": 38,
   "metadata": {},
   "outputs": [
    {
     "name": "stdout",
     "output_type": "stream",
     "text": [
      "[[ 1  0  4]\n",
      " [ 5  2 -2]\n",
      " [ 2  9  3]]\n",
      "\n",
      "\n",
      "[[5 1 2]\n",
      " [1 4 1]\n",
      " [2 2 5]]\n",
      "\n",
      "\n",
      "[[ 0.97340426  0.83510638 -0.07446809]\n",
      " [-0.05851064  0.03723404  0.43617021]\n",
      " [ 1.14361702  0.09042553  0.20212766]]\n"
     ]
    }
   ],
   "source": [
    "# Solution A\n",
    "import numpy as np\n",
    "import math\n",
    "\n",
    "A = np.array([[1, 0, 4],[5, 2, -2],[2, 9, 3]])\n",
    "print(A)\n",
    "print('\\n')\n",
    "\n",
    "# Let there be B matrix where the conditions for the Jacobi iterative algorithm are satisfied\n",
    "B = np.array([[5, 1, 2],[1, 4, 1],[2, 2, 5]])\n",
    "print(B)\n",
    "print('\\n')\n",
    "\n",
    "# Now let us find a P projection that satisfies that P*A = B\n",
    "A_inv = np.linalg.inv(A)\n",
    "P = B @ A_inv\n",
    "print(P)"
   ]
  },
  {
   "cell_type": "code",
   "execution_count": 74,
   "metadata": {},
   "outputs": [
    {
     "name": "stdout",
     "output_type": "stream",
     "text": [
      "[-3 -1 -8]\n"
     ]
    }
   ],
   "source": [
    "# Solution B\n",
    "A = np.array([[1, 0, 4],[5, 2, -2],[2, 9, 3]]) # Example Matrix\n",
    "B = A.copy()\n",
    "A_diag = np.diag(A)\n",
    "np.fill_diagonal(B,0)\n",
    "result = A_diag - B.sum(axis=1)\n",
    "print(result)"
   ]
  },
  {
   "cell_type": "code",
   "execution_count": 54,
   "metadata": {},
   "outputs": [
    {
     "name": "stdout",
     "output_type": "stream",
     "text": [
      "[-0.05468778  1.32919191  0.0531176   1.18088349  0.64996597 -0.78496649\n",
      " -0.23203506 -0.44700253 -0.00891053 -0.12033058]\n",
      "\n",
      "\n",
      "[-0.02102964  0.00784056  0.01314322  0.03109848 -0.05399105 -0.02577736\n",
      "  0.03080391  0.05045037 -0.0387521  -0.02873585  0.0255315 ]\n"
     ]
    }
   ],
   "source": [
    "# Solution C\n",
    "import sys\n",
    "\n",
    "A = np.random.rand(11,10)\n",
    "b = np.random.rand(11)\n",
    "\n",
    "x_h = np.linalg.lstsq(A,b,rcond=None)[0]\n",
    "\n",
    "print(x_h)\n",
    "print('\\n')\n",
    "\n",
    "# Error of the approximation\n",
    "err = A@x_h-b\n",
    "print(err)"
   ]
  }
 ],
 "metadata": {
  "kernelspec": {
   "display_name": "Python 3",
   "language": "python",
   "name": "python3"
  },
  "language_info": {
   "codemirror_mode": {
    "name": "ipython",
    "version": 3
   },
   "file_extension": ".py",
   "mimetype": "text/x-python",
   "name": "python",
   "nbconvert_exporter": "python",
   "pygments_lexer": "ipython3",
   "version": "3.7.4"
  }
 },
 "nbformat": 4,
 "nbformat_minor": 2
}
